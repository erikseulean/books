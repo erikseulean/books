{
 "cells": [
  {
   "cell_type": "markdown",
   "metadata": {},
   "source": [
    "## Pachetul Python Networkx. Popularitatea nodurilor unei retele ##"
   ]
  },
  {
   "cell_type": "markdown",
   "metadata": {},
   "source": [
    "[Networkx](http://networkx.github.io/) este un pachet Python destinat generarii si analizei structurii si proprietatilor unei retele."
   ]
  },
  {
   "cell_type": "markdown",
   "metadata": {},
   "source": [
    "O retea este un graf $G=(V, E)$, ce consta  dintr-o multime finita de  noduri,\n",
    "$V=\\{0,1,2,\\ldots, n-1\\}$  si multimea, $E$, a arcelor formata din perechi de noduri.\n",
    "\n",
    "Grafurile sunt neorientate sau orientate. In cazul grafurilor neorientate nodurile $i,j$\n",
    "conectate printr-un arc nu implica o ordine a conexiunii, de la $i$ spre $j$ sau de la $j$ spre $i$. In grafurile orientate perechea $(i,j)$ este ordonata. Se presupune ca \n",
    "exista conexiune de la $i$ spre $j$, dar daca perechea $(j,i)$ nu apartine lui $E$, atunci nu exista conexiune inversa, de la $j$ la $i$.\n",
    "\n",
    "Unui graf neorientat/orientat  i se asociaza matricea de adiacenta sau conectivitate, $A=(a_{ij})$, $i, j=\\overline{0,n-1}$:\n",
    "\n",
    "$$a_{ij}=\\left\\{\\begin{array}{ll} 1&\\mbox{daca exista arc intre nodul i si j}\\\\\n",
    "                   0& \\mbox{in caz contrar}\\end{array}\\right.$$\n",
    "                   \n",
    " Daca graful este neorientat atunci matricea de adiacenta  este simetrica.\n",
    " \n",
    "                   "
   ]
  },
  {
   "cell_type": "markdown",
   "metadata": {},
   "source": [
    "Inainte de a trece la definirea, vizualizarea si analiza unei retele, precizam cum se calculeaza valorile\n",
    "si vectorii proprii ai unei matrici (`numpy.array`  de `shape`  $(n, n)$ in Python)."
   ]
  },
  {
   "cell_type": "code",
   "execution_count": 1,
   "metadata": {
    "collapsed": false
   },
   "outputs": [],
   "source": [
    "import numpy as np"
   ]
  },
  {
   "cell_type": "code",
   "execution_count": 2,
   "metadata": {
    "collapsed": false
   },
   "outputs": [
    {
     "name": "stdout",
     "output_type": "stream",
     "text": [
      "[[ 0.  1.  0.  1.  1.]\n",
      " [ 1.  0.  0.  0.  1.]\n",
      " [ 0.  0.  0.  1.  1.]\n",
      " [ 1.  0.  1.  0.  1.]\n",
      " [ 1.  1.  1.  1.  0.]]\n"
     ]
    }
   ],
   "source": [
    "A=np.array([0, 1, 0, 1, 1, \n",
    "   1, 0, 0, 0, 1,\n",
    "   0, 0, 0, 1, 1,\n",
    "   1, 0, 1, 0, 1,\n",
    "   1, 1, 1,  1, 0], float).reshape((5,5))\n",
    "print A"
   ]
  },
  {
   "cell_type": "markdown",
   "metadata": {},
   "source": [
    "Pentru  a calcula radacinile polinomului caracteristic al matricii $A$ si vectorii proprii corespunzatori, apelam functia `np.linalg.eig(A)` care returneaza array-ul 1D, `Lamb`, ce contine radacinile polinomului caracteristic si array-ul 2D, `V`, \n",
    "care are pe o coloana j coordonatele unui vector propriu corespunzator valorii proprii `Lamb[j]`."
   ]
  },
  {
   "cell_type": "code",
   "execution_count": 3,
   "metadata": {
    "collapsed": false
   },
   "outputs": [
    {
     "name": "stdout",
     "output_type": "stream",
     "text": [
      "Radacinile polinomului caracteristic sunt\n",
      "[ 2.93543233  0.61803399 -0.46259842 -1.61803399 -1.47283391]\n",
      "\n",
      " iar vectorii proprii corespunzatori: \n",
      "[[-0.47 -0.37  0.51  0.6  -0.14]\n",
      " [-0.35 -0.6  -0.44 -0.37 -0.43]\n",
      " [-0.35  0.6  -0.44  0.37 -0.43]\n",
      " [-0.47  0.37  0.51 -0.6  -0.14]\n",
      " [-0.56 -0.   -0.31 -0.    0.77]]\n"
     ]
    }
   ],
   "source": [
    "Lamb, V=np.linalg.eig(A)\n",
    "print  'Radacinile polinomului caracteristic sunt\\n', Lamb\n",
    "print'\\n iar vectorii proprii corespunzatori: \\n', V.round(2)"
   ]
  },
  {
   "cell_type": "code",
   "execution_count": 4,
   "metadata": {
    "collapsed": false
   },
   "outputs": [
    {
     "name": "stdout",
     "output_type": "stream",
     "text": [
      "Vectorul propriu corespunzator valorii -1.61803398875 este:\n",
      "[ 0.6  -0.37  0.37 -0.6  -0.  ]\n"
     ]
    }
   ],
   "source": [
    "print 'Vectorul propriu corespunzator valorii', Lamb[3], 'este:\\n', V[:,3].round(2)"
   ]
  },
  {
   "cell_type": "markdown",
   "metadata": {},
   "source": [
    "Matricea data este o matrice binara, deci poate fi interpretata ca matricea de adiacenta a unui graf.\n",
    "Fiind o matrice nenegativa asociata unui graf conex, i se poate aplica Teorema Perron-Frobenius.\n",
    "\n",
    "Sa determinam valoarea proprie dominanta, adica valoarea proprie reala, strict pozitiva $\\lambda_d$\n",
    "cu proprietatea ca $|\\lambda_j|\\leq \\lambda_d$, $\\forall\\: j=\\overline{0,4}$ si vectorul propriu corespunzator: \n",
    "    \n",
    "    "
   ]
  },
  {
   "cell_type": "markdown",
   "metadata": {},
   "source": [
    "Teoretic ar trebui sa calculam mai intai array-ul valorilor absolute ale elementelor din `Lamb` si \n",
    "apoi elementul maxim: "
   ]
  },
  {
   "cell_type": "code",
   "execution_count": 5,
   "metadata": {
    "collapsed": false
   },
   "outputs": [
    {
     "name": "stdout",
     "output_type": "stream",
     "text": [
      "[ 2.93543233  0.61803399  0.46259842  1.61803399  1.47283391]\n"
     ]
    }
   ],
   "source": [
    "print np.fabs(Lamb)"
   ]
  },
  {
   "cell_type": "markdown",
   "metadata": {},
   "source": [
    "Concentrat putem scrie:"
   ]
  },
  {
   "cell_type": "code",
   "execution_count": 6,
   "metadata": {
    "collapsed": false
   },
   "outputs": [
    {
     "name": "stdout",
     "output_type": "stream",
     "text": [
      "2.93543233197\n"
     ]
    }
   ],
   "source": [
    "print np.amax(np.fabs(Lamb))# functia np.amax(array) returneaza elementul maxim dintr-un array 1D"
   ]
  },
  {
   "cell_type": "markdown",
   "metadata": {},
   "source": [
    "Deci valoarea proprie dominanta este:"
   ]
  },
  {
   "cell_type": "code",
   "execution_count": 7,
   "metadata": {
    "collapsed": false
   },
   "outputs": [],
   "source": [
    "lambD=np.amax(np.fabs(Lamb))# valoarea proprie dominanta calculata                           "
   ]
  },
  {
   "cell_type": "markdown",
   "metadata": {},
   "source": [
    "iar pozitia ei in array-ul `Lamb` este returnata de `np.argmax(np.fabs(Lamb))`:"
   ]
  },
  {
   "cell_type": "code",
   "execution_count": 8,
   "metadata": {
    "collapsed": false
   },
   "outputs": [
    {
     "name": "stdout",
     "output_type": "stream",
     "text": [
      "Valoarea proprie dominanta este plasata in pozitia: 0\n",
      "Valoarea proprie dominanta este: 2.93543233197 \n",
      "\n",
      " iar vectorul propriu dominant este\n",
      "[-0.47 -0.35 -0.35 -0.47 -0.56]\n"
     ]
    }
   ],
   "source": [
    "j=np.argmax(np.fabs(Lamb))\n",
    "print 'Valoarea proprie dominanta este plasata in pozitia:', j\n",
    "#vectorul propriu corespunzator:\n",
    "x=V[:,j]\n",
    "\n",
    "print 'Valoarea proprie dominanta este:', lambD, \\\n",
    "'\\n\\n iar vectorul propriu dominant este\\n', V[:,j].round(2)\n"
   ]
  },
  {
   "cell_type": "markdown",
   "metadata": {},
   "source": [
    "Observam ca acest vector are toate coordonatele negative, deci `-x` este vectorul propriu cu\n",
    "toate coordonatele pozitive, conform teoremei\n",
    "Perron-Frobenius.\n",
    "\n",
    "Vectorul $x$ normalizat este $r=x/\\sum_{i=0}^{n-1}x[i]$ si reprezinta  vectorul rating, avand drept coordonate coeficientii de popularitate/importanta a nodurilor retelei. Adica $r[j]$ este coeficientul de popularitate al nodului $j$ din retea:\n",
    "\n"
   ]
  },
  {
   "cell_type": "code",
   "execution_count": 9,
   "metadata": {
    "collapsed": false
   },
   "outputs": [
    {
     "name": "stdout",
     "output_type": "stream",
     "text": [
      "Coeficientii de popularitate a nodurilor retelei de matrice de conectivitateA sunt\n",
      "[ 0.21  0.16  0.16  0.21  0.25]\n"
     ]
    }
   ],
   "source": [
    "r=x/np.sum(x)\n",
    "print 'Coeficientii de popularitate a nodurilor retelei de matrice de conectivitate'+\\\n",
    "'A sunt\\n', r.round(2)# semnul + intre doua stringuri inseamna concatenarea lor\n",
    "                        # semnul \\ reprezinta continuare pe linia urmatoare"
   ]
  },
  {
   "cell_type": "markdown",
   "metadata": {},
   "source": [
    "Sa realizam acum ranking-ul nodurilor, sortand elementele vectorului $r$, descrescator si retinand\n",
    "indicii ce dau pozitia initiala in `r` a elementelor sortate."
   ]
  },
  {
   "cell_type": "code",
   "execution_count": 10,
   "metadata": {
    "collapsed": false
   },
   "outputs": [
    {
     "name": "stdout",
     "output_type": "stream",
     "text": [
      "[4 0 3 2 1]\n"
     ]
    }
   ],
   "source": [
    "ranking=np.argsort(r)[::-1]     #Functia np.argsort, sorteaza crescator array-ul 1D, rating,\n",
    "                                # si returneaza indicii din r a elementelor sortate\n",
    "                                # Pentru a gasi ordinea indicilor pentru sortarea descrescatoare \n",
    "                                # se inverseaza elementele array-ului returnat de\n",
    "                                # np.argsort(rating) folosind notatia tipica pt reversing, [::-1]\n",
    "print ranking"
   ]
  },
  {
   "cell_type": "markdown",
   "metadata": {},
   "source": [
    "Deci nodul retelei cu cea  mai mare popularitate este nodul 4, urmat de 0, 3,2,1.\n",
    "\n",
    "\n",
    "Sa aplicam acum aceasta procedura pentru retele neorientate si apoi retele orientate, folosind\n",
    "pachetul `networkx`:"
   ]
  },
  {
   "cell_type": "markdown",
   "metadata": {},
   "source": [
    "### Definirea unui graf in `networkx`"
   ]
  },
  {
   "cell_type": "markdown",
   "metadata": {},
   "source": [
    "Importam modulul `networkx` astfel:"
   ]
  },
  {
   "cell_type": "code",
   "execution_count": 11,
   "metadata": {
    "collapsed": false
   },
   "outputs": [],
   "source": [
    "import networkx as nx"
   ]
  },
  {
   "cell_type": "markdown",
   "metadata": {},
   "source": [
    "Linia urmatoare   defineste un graf vid,  G, neorientat (G este un obiect din clasa `Graph`):"
   ]
  },
  {
   "cell_type": "code",
   "execution_count": 12,
   "metadata": {
    "collapsed": false
   },
   "outputs": [],
   "source": [
    "G=nx.Graph()"
   ]
  },
  {
   "cell_type": "markdown",
   "metadata": {},
   "source": [
    "**1.  Constructia grafului pornind de la lista nodurilor si lista arcelor**"
   ]
  },
  {
   "cell_type": "markdown",
   "metadata": {},
   "source": [
    "Se defineste lista nodurilor, `V`, si lista arcelor, `E`, si apoi se apeleaza  pentru graful `G` metoda\n",
    "`add_nodes_from(V)`, respectiv `add_edges_from(E)`. \n",
    "\n",
    "Se pot adauga noduri/arce individuale\n",
    "apeland metoda `add_node()`/`add_edge()`:"
   ]
  },
  {
   "cell_type": "code",
   "execution_count": 13,
   "metadata": {
    "collapsed": false
   },
   "outputs": [],
   "source": [
    "n=9\n",
    "V=[i for i in range(n)]\n",
    "G.add_nodes_from(V)\n",
    "E=[(0,1), (0,2), (1,3), (1,4), (1,7), (2,5), (2,8), (3, 4), (3,5),(4,6), (4,7), (4,8), (5,7)]\n",
    "G.add_edges_from(E)\n",
    "G.add_edge(6,8)"
   ]
  },
  {
   "cell_type": "markdown",
   "metadata": {},
   "source": [
    "Dupa ce elementele definitorii au fost setate, urmeaza generarea/trasarea grafului, folosind functia `nx.draw` care se bazeaza pe functii  din biblioteca grafica `matplotlib`. \n"
   ]
  },
  {
   "cell_type": "code",
   "execution_count": 14,
   "metadata": {
    "collapsed": false
   },
   "outputs": [],
   "source": [
    "%matplotlib inline\n",
    "# comanda \"%matplotlib inline\"   se da pentru a insera figurile generate, inline, in notebook"
   ]
  },
  {
   "cell_type": "code",
   "execution_count": 15,
   "metadata": {
    "collapsed": false
   },
   "outputs": [],
   "source": [
    "import matplotlib.pyplot as plt  # importam biblioteca grafica"
   ]
  },
  {
   "cell_type": "code",
   "execution_count": 16,
   "metadata": {
    "collapsed": false
   },
   "outputs": [
    {
     "data": {
      "image/png": "[encoded data removed]",
      "text/plain": [
       "<matplotlib.figure.Figure at 0x7f1a8f108b10>"
      ]
     },
     "metadata": {},
     "output_type": "display_data"
    }
   ],
   "source": [
    "nx.draw(G, node_color='c',edge_color='b', with_labels=True)# in mod implicit graful este trasat \n",
    "                                                           #fara a afisa etichetele nodurilor\n",
    "                                                           # with_labels=True conduce la afisarea lor"
   ]
  },
  {
   "cell_type": "markdown",
   "metadata": {},
   "source": [
    "Pozitionarea relativa a nodurilor este realizata conform algoritmului numit [*spring layout algorithm*](http://wwwmayr.informatik.tu-muenchen.de/lehre/2012WS/algoprak/uebung/tutorial11.english.pdf). \n",
    "\n",
    "Exista mai multe modalitati de amplasare a nodurilor in spatiu, dar aceasta este cea mai convenabila pentru prezentarea noastra."
   ]
  },
  {
   "cell_type": "markdown",
   "metadata": {},
   "source": [
    "Extragem matricea de adiacenta a grafului:"
   ]
  },
  {
   "cell_type": "code",
   "execution_count": 17,
   "metadata": {
    "collapsed": false
   },
   "outputs": [
    {
     "name": "stdout",
     "output_type": "stream",
     "text": [
      "[[0 1 1 0 0 0 0 0 0]\n",
      " [1 0 0 1 1 0 0 1 0]\n",
      " [1 0 0 0 0 1 0 0 1]\n",
      " [0 1 0 0 1 1 0 0 0]\n",
      " [0 1 0 1 0 0 1 1 1]\n",
      " [0 0 1 1 0 0 0 1 0]\n",
      " [0 0 0 0 1 0 0 0 1]\n",
      " [0 1 0 0 1 1 0 0 0]\n",
      " [0 0 1 0 1 0 1 0 0]]\n"
     ]
    }
   ],
   "source": [
    "A=nx.adjacency_matrix(G)#  A este un obiect al unei clase speciale in networkx\n",
    "\n",
    "#A.todense() defineste matricea de adiacenta ca un obiect al unei clase din numpy, \n",
    "#dar NU clasa `numpy.array` \n",
    "\n",
    "print A.todense()"
   ]
  },
  {
   "cell_type": "code",
   "execution_count": 18,
   "metadata": {
    "collapsed": false
   },
   "outputs": [
    {
     "name": "stdout",
     "output_type": "stream",
     "text": [
      "<class 'numpy.matrixlib.defmatrix.matrix'>\n"
     ]
    }
   ],
   "source": [
    "print type(A.todense())"
   ]
  },
  {
   "cell_type": "markdown",
   "metadata": {},
   "source": [
    "Pentru a lucra doar cu `numpy.array`, convertim `A.todense()` (se pot determina valorile si vectorii proprii\n",
    "ai lui `A.todense()`, dar e putin diferit de modul de lucru cu `numpy.array`):"
   ]
  },
  {
   "cell_type": "code",
   "execution_count": 19,
   "metadata": {
    "collapsed": false
   },
   "outputs": [
    {
     "name": "stdout",
     "output_type": "stream",
     "text": [
      "<type 'numpy.ndarray'>\n"
     ]
    }
   ],
   "source": [
    "A=np.array(A.todense())# interpretati aceasta linie ca un cast\n",
    "print type(A)"
   ]
  },
  {
   "cell_type": "markdown",
   "metadata": {},
   "source": [
    "Sa determinam coeficientul de popularitate a nodurilor acestei retele. Cum graful asociat este neorientat\n",
    "matricea de adiacenta este simetrica si deci are sigur toate radacinile polinomului caracteristic, reale (Cursul 12).\n"
   ]
  },
  {
   "cell_type": "code",
   "execution_count": 20,
   "metadata": {
    "collapsed": false
   },
   "outputs": [
    {
     "name": "stdout",
     "output_type": "stream",
     "text": [
      "0\n",
      "Valoarea proprie dominanta este: 3.34433739587\n",
      "Vectorul propriu corespunzator:\n",
      "[-0.195 -0.424 -0.23  -0.361 -0.499 -0.285 -0.236 -0.361 -0.288]\n"
     ]
    }
   ],
   "source": [
    "\n",
    "Lamb,V=np.linalg.eig(A)\n",
    "\n",
    "lamb=np.amax(Lamb)# radacinile fiind reale, valoarea dominata este maximumul valorilor proprii\n",
    "j=np.argmax(Lamb)#pozitia in Lamb a valorii maxime\n",
    "print j\n",
    "x=V[:,j]\n",
    "print 'Valoarea proprie dominanta este:', lamb\n",
    "print 'Vectorul propriu corespunzator:\\n', x.round(3)"
   ]
  },
  {
   "cell_type": "markdown",
   "metadata": {},
   "source": [
    "Sa determinam vectorul rating  asociat nodurilor retelei:"
   ]
  },
  {
   "cell_type": "code",
   "execution_count": 21,
   "metadata": {
    "collapsed": false
   },
   "outputs": [
    {
     "name": "stdout",
     "output_type": "stream",
     "text": [
      "Vectorul rating al nodurilor\n",
      "[ 0.068  0.147  0.08   0.125  0.173  0.099  0.082  0.125  0.1  ]\n"
     ]
    }
   ],
   "source": [
    "s=np.sum(x)\n",
    "rating=x/s # vectorul propriu dominant, normalizat\n",
    "print 'Vectorul rating al nodurilor\\n', rating.round(3)"
   ]
  },
  {
   "cell_type": "code",
   "execution_count": 22,
   "metadata": {
    "collapsed": false
   },
   "outputs": [
    {
     "name": "stdout",
     "output_type": "stream",
     "text": [
      "[4 1 3 7 8 5 6 2 0]\n"
     ]
    }
   ],
   "source": [
    "ranking=np.argsort(rating)[::-1]\n",
    "print ranking"
   ]
  },
  {
   "cell_type": "markdown",
   "metadata": {},
   "source": [
    "Rezulta astfel ca nodul cu cea mai mare popularitate este nodul  4."
   ]
  },
  {
   "cell_type": "markdown",
   "metadata": {},
   "source": [
    "Coeficientul de popularitate este:"
   ]
  },
  {
   "cell_type": "code",
   "execution_count": 23,
   "metadata": {
    "collapsed": false
   },
   "outputs": [
    {
     "name": "stdout",
     "output_type": "stream",
     "text": [
      "0.173431138148\n"
     ]
    }
   ],
   "source": [
    "print rating [ranking[0]]"
   ]
  },
  {
   "cell_type": "markdown",
   "metadata": {},
   "source": [
    "Fiecarui nod dintr-o retea i se asociaza gradul, ca fiind numarul de noduri cu care este conectat\n",
    "printr-un arc (drum de lungime 1).\n",
    "\n",
    "Functia `grad=nx.degree(nod)` returneaza gradul unui nod, iar `grad=nx.degree(G)`, gradele tuturor\n",
    "nodurilor retelei. In acest al doilea caz, grad este un dictionar, adica o structura de date in Python\n",
    "ce consta dintr-o multime ordonata de perechi `cheie:valoare`, inserate intre acolade:"
   ]
  },
  {
   "cell_type": "code",
   "execution_count": 24,
   "metadata": {
    "collapsed": false
   },
   "outputs": [
    {
     "name": "stdout",
     "output_type": "stream",
     "text": [
      "{'grupa4': 45, 'grupa1': 35, 'grupa3': 43, 'grupa2': 40}\n",
      "['grupa4', 'grupa1', 'grupa3', 'grupa2']\n",
      "In grupa 2 sunt 40 studenti\n"
     ]
    }
   ],
   "source": [
    "dictionar={'grupa1':35, 'grupa2':40, 'grupa3': 43, 'grupa4':45}\n",
    "print dictionar\n",
    "print dictionar.keys()\n",
    "print 'In grupa 2 sunt', dictionar['grupa2'], 'studenti'\n"
   ]
  },
  {
   "cell_type": "code",
   "execution_count": 25,
   "metadata": {
    "collapsed": false
   },
   "outputs": [
    {
     "name": "stdout",
     "output_type": "stream",
     "text": [
      "Dictionarul gradelor nodurilor: {0: 2, 1: 4, 2: 3, 3: 3, 4: 5, 5: 3, 6: 2, 7: 3, 8: 3}\n",
      "Gradul nodului 4, ce are ceam mai mare popularitate este: 5\n"
     ]
    }
   ],
   "source": [
    "grad=nx.degree(G)\n",
    "print 'Dictionarul gradelor nodurilor:', grad\n",
    "print 'Gradul nodului 4, ce are ceam mai mare popularitate este:', grad[4]\n",
    "    "
   ]
  },
  {
   "cell_type": "markdown",
   "metadata": {},
   "source": [
    "Remarcam ca nodul 4 care are cel mai mare coeficient de popularitate are si cel mai mare\n",
    "grad (este \"cel mai conectat\" nod din retea)."
   ]
  },
  {
   "cell_type": "markdown",
   "metadata": {},
   "source": [
    "### **2.** Constructia grafului neorientat pornind de la matricea sa de adiacenta."
   ]
  },
  {
   "cell_type": "markdown",
   "metadata": {},
   "source": [
    "Daca se da matricea de adiacenta, $A$,  a unui graf atunci graful este creat de functia:\n",
    "\n",
    "`G= nx.from_numpy_matrix(A)`:"
   ]
  },
  {
   "cell_type": "code",
   "execution_count": 29,
   "metadata": {
    "collapsed": false
   },
   "outputs": [
    {
     "name": "stdout",
     "output_type": "stream",
     "text": [
      "Nodurile grafului sunt:\n",
      "[0, 1, 2, 3, 4, 5, 6, 7]\n",
      "Lista arcelor:\n",
      "[(0, 1), (0, 2), (0, 3), (0, 7), (1, 2), (1, 4), (1, 5), (1, 6), (2, 6), (2, 7), (3, 4), (3, 5), (3, 6), (3, 7), (4, 5), (4, 6), (5, 6), (6, 7)]\n"
     ]
    },
    {
     "data": {
      "image/png": "[encoded data removed]",
      "text/plain": [
       "<matplotlib.figure.Figure at 0x7f1a8ed3dd10>"
      ]
     },
     "metadata": {},
     "output_type": "display_data"
    }
   ],
   "source": [
    "Ad=np.array([[0,1,1,1,0,0,0,1],\n",
    "             [1,0,1,0,1,1,1,0],\n",
    "             [1,1,0,0,0,0,1,1],\n",
    "             [1,0,0,0,1,1,1,1],\n",
    "             [0,1,0,1,0,1,1,0],\n",
    "             [0,1,0,1,1,0,1,0],\n",
    "             [0,1,1,1,1,1,0,1],\n",
    "             [1,0,1,1,0,0,1,0]], float)\n",
    "Gr=nx.from_numpy_matrix(Ad)\n",
    "print 'Nodurile grafului sunt:\\n', Gr.nodes()\n",
    "print 'Lista arcelor:\\n', Gr.edges()\n",
    "nx.draw(Gr, node_color='g', with_labels=True, alpha=0.5)\n",
    "# alpha este parametrul de transparenta a culorii nodurilor"
   ]
  },
  {
   "cell_type": "markdown",
   "metadata": {},
   "source": [
    "#### Popularitatea nodurilor unei retele orientate"
   ]
  },
  {
   "cell_type": "markdown",
   "metadata": {},
   "source": [
    "Constructia unei retele (graf) orientat se realizeaza la fel ca in cazul celor neorientate,\n",
    "doar ca obiectul nu mai este declarat de tip `Graph`, ci `DiGraph`.\n"
   ]
  },
  {
   "cell_type": "code",
   "execution_count": 34,
   "metadata": {
    "collapsed": false
   },
   "outputs": [
    {
     "data": {
      "image/png": "[encoded data removed]",
      "text/plain": [
       "<matplotlib.figure.Figure at 0x7f1a8eba1450>"
      ]
     },
     "metadata": {},
     "output_type": "display_data"
    }
   ],
   "source": [
    "H=nx.DiGraph()\n",
    "n=5\n",
    "Noduri=[k for k in range(n)]\n",
    "Arce=[(0,3), (0,4), (1,2),(1,3), (1,4), (2,3), (4,1), (4,3)]\n",
    "H.add_nodes_from(Noduri)\n",
    "H.add_edges_from(Arce)\n",
    "nx.draw(H, node_color='r', with_labels=True, alpha=0.5)\n"
   ]
  },
  {
   "cell_type": "markdown",
   "metadata": {},
   "source": [
    "Sa construim o retea orientata din matricea sa adiacenta si sa determinam popularitatea nodurilor:"
   ]
  },
  {
   "cell_type": "code",
   "execution_count": 35,
   "metadata": {
    "collapsed": false
   },
   "outputs": [],
   "source": [
    "plt.rcParams['figure.figsize'] = 8, 8  #setam dimensiunile figurii"
   ]
  },
  {
   "cell_type": "code",
   "execution_count": 40,
   "metadata": {
    "collapsed": false
   },
   "outputs": [
    {
     "name": "stdout",
     "output_type": "stream",
     "text": [
      "Nodurile grafului sunt:\n",
      "[0, 1, 2, 3, 4, 5, 6, 7]\n",
      "Lista arcelor:\n",
      "[(0, 1), (0, 2), (0, 3), (1, 2), (1, 4), (1, 5), (1, 6), (2, 7), (3, 4), (3, 5), (4, 6), (5, 4), (5, 6), (6, 1), (6, 2), (6, 3), (6, 7), (7, 0), (7, 3)]\n"
     ]
    },
    {
     "data": {
      "image/png": "[encoded data removed]",
      "text/plain": [
       "<matplotlib.figure.Figure at 0x7f1a8ee9c350>"
      ]
     },
     "metadata": {},
     "output_type": "display_data"
    }
   ],
   "source": [
    "W=np.array([[0,1,1,1,0,0,0,0],[0,0,1,0,1,1,1,0],[0,0,0,0,0,0,0,1],[0,0,0,0,1,1,0,0],\n",
    "            [0,0,0,0,0,0,1,0], [0,0,0,0,1,0,1,0],[0,1,1,1,0,0,0,1], [1,0,0,1,0,0,0,0]], float)\n",
    "GW=nx.from_numpy_matrix(W, create_using=nx.DiGraph())\n",
    "print 'Nodurile grafului sunt:\\n', GW.nodes()\n",
    "print 'Lista arcelor:\\n', GW.edges()\n",
    "nx.draw(GW, node_color='g',  with_labels=True, alpha=0.5)"
   ]
  },
  {
   "cell_type": "markdown",
   "metadata": {},
   "source": [
    "Conform teoriei din cursul 11, vectorul rating asociat unei retele orientate este vectorul propriu\n",
    "al valorii proprii dominante a matricii de conectivitate, transpusa:"
   ]
  },
  {
   "cell_type": "code",
   "execution_count": 41,
   "metadata": {
    "collapsed": false
   },
   "outputs": [
    {
     "name": "stdout",
     "output_type": "stream",
     "text": [
      "[ 2.272+0.j    -0.711+1.077j -0.711-1.077j  0.079+1.108j  0.079-1.108j\n",
      "  0.000+0.j    -0.303+0.j    -0.705+0.j   ]\n"
     ]
    }
   ],
   "source": [
    "Lamb, V=np.linalg.eig(W.transpose()) # aflam radacinile polinomului caracteristic a matricii W^T\n",
    "print Lamb.round(3)"
   ]
  },
  {
   "cell_type": "markdown",
   "metadata": {},
   "source": [
    "Matricea de adiacenta nefiind simetrica, polinomul sau caracteristic poate avea si radacini complex conjugate. Radacinile reale sunt afisate\n",
    "si ele in forma complexa, $a=a+ 0.j$ (in Python numarul complex $i=\\sqrt{-1}$ este notat $j$, ca in electronica)."
   ]
  },
  {
   "cell_type": "markdown",
   "metadata": {},
   "source": [
    "Determinam acum valoarea proprie dominanta, adica radacina reala, pozitiva,   care domina valorile absolute ale celorlalte:"
   ]
  },
  {
   "cell_type": "code",
   "execution_count": 42,
   "metadata": {
    "collapsed": false
   },
   "outputs": [
    {
     "name": "stdout",
     "output_type": "stream",
     "text": [
      "valoarea proprie dominanta este: 2.27227147357\n",
      "valorile absolute ale radacinilor sunt:\n",
      "[ 2.272  1.291  1.291  1.111  1.111  0.     0.303  0.705]\n",
      "Vectorul rating:\n",
      "[ 0.057  0.095  0.137  0.153  0.157  0.109  0.159  0.131]\n",
      "Nodurile in ordinea descrescatoare a popularitatii lor:\n",
      "[6 4 3 2 7 5 1 0]\n",
      "Nodul cel mai important este: 6\n"
     ]
    }
   ],
   "source": [
    "absLamb=np.abs(Lamb)\n",
    "j=np.argmax(absLamb)\n",
    "if not np.isreal(Lamb[j]):# daca valoarea absoluta maxima nu este reala\n",
    "    raise ValueError(\"matricea A nu indeplineste conditiile T Perron-Frobenius sau alta cauza\")\n",
    "else:\n",
    "    lamD=np.real(Lamb[j])# afiseaza nr real fara 0*j\n",
    "    print 'valoarea proprie dominanta este:', lamD\n",
    "    print 'valorile absolute ale radacinilor sunt:\\n', absLamb.round(3)\n",
    "    x=V[:,j]\n",
    "    s=np.sum(x)\n",
    "    rating=x/s\n",
    "    print 'Vectorul rating:\\n', np.real(rating.round(3))# fortam sa afiseze coordonatele fara 0.j\n",
    "    ranking=np.argsort(rating)[::-1]\n",
    "    print 'Nodurile in ordinea descrescatoare a popularitatii lor:\\n', ranking \n",
    "    print 'Nodul cel mai important este:', ranking[0] \n"
   ]
  },
  {
   "cell_type": "markdown",
   "metadata": {},
   "source": [
    "Tema de proiect data in anul universitar trecut:"
   ]
  },
  {
   "cell_type": "markdown",
   "metadata": {},
   "source": [
    "### Determinarea popularitatii jucatorilor unei echipe de fotbal la Campionatul Mondial, Brazilia 2014"
   ]
  },
  {
   "cell_type": "markdown",
   "metadata": {},
   "source": [
    "Sa se determine popularitatea jucatorilor unei echipe de fotbal intr-unul din meciurile jucate la campionatul Mondial de Fotbal, Brazilia 2014.\n"
   ]
  },
  {
   "cell_type": "markdown",
   "metadata": {},
   "source": [
    "Reteaua asociata echipei implicata intr-un joc are ca noduri jucatorii (fara rezervele ce nu au intrat in jocul respectiv).\n",
    "Exista arc orientat de la jucatorul i la jucatorul j, daca in cursul meciului numarul de pase de la i la j este nenul.\n",
    "\n",
    "Notam cu $W$ matricea ponderare:\n",
    "    $$W_{ij}=\\mbox{numarul de pase de la i la j}$$\n",
    "    Evident $W_{ij}=0$, daca jucatorul i nu a avut nicio pasa spre j. Aceasta matrice este nenegativa si la fel ca pentru matricea de adiacenta se poate aplica Teorema Perron-Frobenius pentru a afla popularitatea jucatorilor in cadrul echipei.\n"
   ]
  },
  {
   "cell_type": "markdown",
   "metadata": {},
   "source": [
    "Datele pentru acest proiect le descarcati de la FIFA."
   ]
  },
  {
   "cell_type": "markdown",
   "metadata": {},
   "source": [
    "La adresa URL  [http://www.fifa.com/worldcup/statistics/matches/passes.html](http://www.fifa.com/worldcup/statistics/matches/passes.html)\n",
    "dati click pe un meci, de exemplu Germania-Argentina si se deschide pagina:\n",
    "\n",
    "[http://www.fifa.com/worldcup/matches/round=255959/match=300186501/index.html#games](http://www.fifa.com/worldcup/matches/round=255959/match=300186501/index.html#games)\n",
    "\n",
    "De pe aceasta pagina descarcam fisierul [`Passing Distribution.pdf`](http://resources.fifa.com/mm/document/tournament/competition/02/40/51/17/64_0713_ger-arg_passingdistribution.pdf)\n",
    "\n",
    "\n",
    "\n",
    "Copiati intr-un fisier `PaseNumeEchipa.txt` matricea paselor din tabelul cel mai din stanga. Evident, nu includeti ca nod, jucatorii de rezerva, neinclusi in meciul respectiv. \n",
    "De exemplu, jucatorul nr 17, Per MERTESACKER, din echipa Germaniei se vede ca n-a jucat in meciul cu Argentina.\n",
    "\n",
    "Apoi o cititi astfel:\n",
    "\n",
    "`W=np.loadtxt('PaseNumeEchipa.txt', dtype=float)`\n",
    "\n",
    "Generati reteaua paselor setand in prealabil o figura de dimensiuni mai mari, ca sa fie vizualizate arcele cat mai bine. Aceasta setare se realizeaza inainte de a desena reteaua prin linia:\n",
    "\n",
    "`plt.rcParams['figure.figsize'] = 10, 10`\n",
    "\n",
    "Cu aceasta setare figura va fi de 10 pe 10. Puteti creste la 12 pe 12."
   ]
  },
  {
   "cell_type": "markdown",
   "metadata": {},
   "source": [
    "Creati apoi dictionarul jucatorilor. De exemplu in meciul Germania-Argentina, pe linia $i$ a matricii paselor jucatorilor germani, figureaza jucatorul 'Prenume Nume'. Astfel dictionarul `Jucatori` s-ar defini pentru Germania, astfel:"
   ]
  },
  {
   "cell_type": "code",
   "execution_count": 43,
   "metadata": {
    "collapsed": false
   },
   "outputs": [],
   "source": [
    "Jucatori={ 0: 'Manuel NEUER',\n",
    "           1: 'Benedikt HOEWEDES', \n",
    "           2: 'Mats HUMMELS'}# etc"
   ]
  },
  {
   "cell_type": "markdown",
   "metadata": {},
   "source": [
    "Avand  acest dictionar atunci cand am  calculat  vectorul `ranking`,  printam informatia in felul urmator:\n",
    "\n",
    "Cel mai popular jucator (cel care a primit cele mai multe pase in timpul meciului) este\n",
    "jucatorul `Jucatori[ranking[0]]`. \n",
    "\n",
    "`i=ranking[0]`este codul numeric al jucatorului, \n",
    "$i \\in\\{0,1, \\ldots, n-1\\}$,  cel mai bun, iar `Jucatori[i]` este numele acestuia extras din dictionar."
   ]
  },
  {
   "cell_type": "markdown",
   "metadata": {},
   "source": [
    "Alegeti meciuri diferite si echipe diferite, nu analizati toti echipa Germaniei.\n",
    "\n",
    "O analiza mai detaliata a performantelor jucatorilor o vom putea efectua in semstrul II, dupa ce studiem \n",
    "Lanturi Markov la Probabilitati."
   ]
  },
  {
   "cell_type": "code",
   "execution_count": 45,
   "metadata": {
    "collapsed": false
   },
   "outputs": [
    {
     "data": {
      "text/html": [
       "<style>\n",
       "    /*body {\n",
       "        background-color: #F5F5F5;\n",
       "    }*/\n",
       "    div.cell{\n",
       "        width: 900px;\n",
       "        margin-left: 13% !important;\n",
       "        margin-right: auto;\n",
       "    }\n",
       "    #notebook li { /* More space between bullet points */\n",
       "    margin-top:0.8em;\n",
       "    }\n",
       "\n",
       "    h1 {\n",
       "        font-family: 'Alegreya Sans', sans-serif;\n",
       "    }\n",
       "    .text_cell_render h1 {\n",
       "        font-weight: 200;\n",
       "        font-size: 40pt;\n",
       "        line-height: 100%;\n",
       "        color: rgb(8, 66, 133);\n",
       "        margin-bottom: 0em;\n",
       "        margin-top: 0em;\n",
       "        display: block;\n",
       "    }\n",
       "    h2 {\n",
       "        font-family: 'Fenix', serif;\n",
       "        text-indent:1em;\n",
       "        text-align:center;\n",
       "    }\n",
       "    .text_cell_render h2 {\n",
       "        font-weight: 200;\n",
       "        font-size: 28pt;\n",
       "        line-height: 100%;\n",
       "        color: rgb(8, 66, 133);\n",
       "        margin-bottom: 1.5em;\n",
       "        margin-top: 0.5em;\n",
       "        display: block;\n",
       "    }\n",
       "    h3 {\n",
       "        font-family: 'Fenix', serif;\n",
       "        %margin-top:12px;\n",
       "        %margin-bottom: 3px;\n",
       "    }\n",
       "    .text_cell_render h3 {\n",
       "        font-weight: 300;\n",
       "        font-size: 18pt;\n",
       "        line-height: 100%;\n",
       "        color: rgb(8, 66, 133);\n",
       "        margin-bottom: 0.5em;\n",
       "        margin-top: 2em;\n",
       "        display: block;\n",
       "    }\n",
       "    h4 {\n",
       "        font-family: 'Fenix', serif;\n",
       "    }\n",
       "    .text_cell_render h4 {\n",
       "        font-weight: 300;\n",
       "        font-size: 16pt;\n",
       "        color: rgb(8, 66, 133);\n",
       "        margin-bottom: 0.5em;\n",
       "        margin-top: 0.5em;\n",
       "        display: block;\n",
       "    }\n",
       "    h5 {\n",
       "        font-family: 'Alegreya Sans', sans-serif;\n",
       "    }\n",
       "    .text_cell_render h5 {\n",
       "        font-weight: 300;\n",
       "        font-style: normal;\n",
       "        font-size: 16pt;\n",
       "        margin-bottom: 0em;\n",
       "        margin-top: 1.5em;\n",
       "        display: block;\n",
       "        }\n",
       "    div.text_cell_render{\n",
       "        font-family: 'Alegreya Sans',Computer Modern, \"Helvetica Neue\", Arial, Helvetica, Geneva, sans-serif;\n",
       "        line-height: 145%;\n",
       "        font-size: 130%;\n",
       "        width:900px;\n",
       "        margin-left:auto;\n",
       "        margin-right:auto;\n",
       "        %text-align:justify;\n",
       "        %text-justify:inter-word;\n",
       "    }\n",
       "    \n",
       "    \n",
       "    code{\n",
       "      font-size: 78%;\n",
       "    }\n",
       "    .rendered_html code{\n",
       "        background-color: transparent;\n",
       "        white-space: inherit;   \n",
       "    }\n",
       "    .prompt{\n",
       "        display: None;\n",
       "     }\n",
       "    .rendered_html code{\n",
       "    background-color: transparent;\n",
       "    }\n",
       "\n",
       "    blockquote{\n",
       "      display:block;\n",
       "      background: #f3f3f3;\n",
       "      font-family: \"Open sans\",verdana,arial,sans-serif;\n",
       "      width:610px;\n",
       "      padding: 15px 15px 15px 15px;\n",
       "      text-align:justify;\n",
       "      text-justify:inter-word;\n",
       "      }\n",
       "      blockquote p {\n",
       "        margin-bottom: 0;\n",
       "        line-height: 125%;\n",
       "        font-size: 100%;\n",
       "      }\n",
       "   /* element.style {\n",
       "    } */\n",
       "</style>\n",
       "<script>\n",
       "    MathJax.Hub.Config({\n",
       "                        TeX: {\n",
       "                           extensions: [\"AMSmath.js\"]\n",
       "                           },\n",
       "                tex2jax: {\n",
       "                    inlineMath: [ [\"$\",\"$\"], [\"\\\\(\",\"\\\\)\"] ],\n",
       "                    displayMath: [ [\"$$\",\"$$\"], [\"\\\\[\",\"\\\\]\"] ]\n",
       "                },\n",
       "                displayAlign: \"center\", // Change this to \"center\" to center equations.\n",
       "                \"HTML-CSS\": {\n",
       "                    styles: {\".MathJax_Display\": {\"margin\": 4}}\n",
       "                }\n",
       "        });\n",
       "</script>\n"
      ],
      "text/plain": [
       "<IPython.core.display.HTML object>"
      ]
     },
     "execution_count": 45,
     "metadata": {},
     "output_type": "execute_result"
    }
   ],
   "source": [
    "from IPython.core.display import HTML\n",
    "def  css_styling():\n",
    "    styles = open(\"custom.css\", \"r\").read()\n",
    "    return HTML(styles)\n",
    "css_styling()"
   ]
  }
 ],
 "metadata": {
  "kernelspec": {
   "display_name": "Python 2",
   "language": "python",
   "name": "python2"
  },
  "language_info": {
   "codemirror_mode": {
    "name": "ipython",
    "version": 2
   },
   "file_extension": ".py",
   "mimetype": "text/x-python",
   "name": "python",
   "nbconvert_exporter": "python",
   "pygments_lexer": "ipython2",
   "version": "2.7.11"
  }
 },
 "nbformat": 4,
 "nbformat_minor": 0
}
